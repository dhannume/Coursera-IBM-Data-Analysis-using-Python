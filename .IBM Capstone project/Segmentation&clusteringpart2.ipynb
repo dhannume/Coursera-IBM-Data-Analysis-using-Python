{
    "nbformat": 4,
    "nbformat_minor": 0,
    "metadata": {
        "colab": {
            "name": "Segmentation&clusteringpart2.ipynb",
            "provenance": [],
            "collapsed_sections": []
        },
        "kernelspec": {
            "name": "python3",
            "display_name": "Python 3"
        },
        "language_info": {
            "name": "python"
        }
    },
    "cells": [
        {
            "cell_type": "markdown",
            "metadata": {
                "id": "P-UhVJy4rEK-"
            },
            "source": "part of segmentation & clustering assignment to extract data for toronto"
        },
        {
            "cell_type": "code",
            "metadata": {
                "id": "37iYR7Jo1Zjo"
            },
            "source": "from bs4 import BeautifulSoup\nimport requests\nimport pandas as pd",
            "execution_count": 15,
            "outputs": []
        },
        {
            "cell_type": "markdown",
            "metadata": {
                "id": "56GqYbBlqszr"
            },
            "source": "importing the table data from the site to the dataframe. Not assigned postal codes will be ignored."
        },
        {
            "cell_type": "code",
            "metadata": {
                "id": "bkOouQSJ1fSO"
            },
            "source": "\n# read the webpage from the wiki\nurl='https://en.wikipedia.org/wiki/List_of_postal_codes_of_Canada:_M'\nresponse = requests.get(url)\n#Process and convert html data\ndata = response.text\nsoup = BeautifulSoup(data,'html.parser')\ntable_contents=[]\ntable=soup.find('table')\nfor row in table.findAll('td'):\n    cell = {}\n    if row.span.text=='Not assigned':\n        pass\n    else:\n        cell['PostalCode'] = row.p.text[:3]\n        cell['Borough'] = (row.span.text).split('(')[0]\n        cell['Neighborhood'] = (((((row.span.text).split('(')[1]).strip(')')).replace(' /',',')).replace(')',' ')).strip(' ')\n        table_contents.append(cell)\n\n# print(table_contents)\ndf=pd.DataFrame(table_contents)\ndf['Borough']=df['Borough'].replace({'Downtown TorontoStn A PO Boxes25 The Esplanade':'Downtown Toronto Stn A',\n                                             'East TorontoBusiness reply mail Processing Centre969 Eastern':'East Toronto Business',\n                                             'EtobicokeNorthwest':'Etobicoke Northwest','East YorkEast Toronto':'East York/East Toronto',\n                                             'MississaugaCanada Post Gateway Processing Centre':'Mississauga'})",
            "execution_count": 26,
            "outputs": []
        },
        {
            "cell_type": "markdown",
            "metadata": {
                "id": "9CzKTp00qp4W"
            },
            "source": "Inserting column headers to each column"
        },
        {
            "cell_type": "code",
            "metadata": {
                "colab": {
                    "base_uri": "https://localhost:8080/",
                    "height": 191
                },
                "id": "nyZOQ7U26yyl",
                "outputId": "4bebdf55-a865-45ea-9d43-624cb083e251"
            },
            "source": "#Rename the columns names\ndf.columns = ['PostalCode','Borough','Neighborhood']\ndf.head()",
            "execution_count": 28,
            "outputs": [
                {
                    "output_type": "execute_result",
                    "data": {
                        "text/html": "<div>\n<style scoped>\n    .dataframe tbody tr th:only-of-type {\n        vertical-align: middle;\n    }\n\n    .dataframe tbody tr th {\n        vertical-align: top;\n    }\n\n    .dataframe thead th {\n        text-align: right;\n    }\n</style>\n<table border=\"1\" class=\"dataframe\">\n  <thead>\n    <tr style=\"text-align: right;\">\n      <th></th>\n      <th>PostalCode</th>\n      <th>Borough</th>\n      <th>Neighborhood</th>\n    </tr>\n  </thead>\n  <tbody>\n    <tr>\n      <th>0</th>\n      <td>M3A</td>\n      <td>North York</td>\n      <td>Parkwoods</td>\n    </tr>\n    <tr>\n      <th>1</th>\n      <td>M4A</td>\n      <td>North York</td>\n      <td>Victoria Village</td>\n    </tr>\n    <tr>\n      <th>2</th>\n      <td>M5A</td>\n      <td>Downtown Toronto</td>\n      <td>Regent Park, Harbourfront</td>\n    </tr>\n    <tr>\n      <th>3</th>\n      <td>M6A</td>\n      <td>North York</td>\n      <td>Lawrence Manor, Lawrence Heights</td>\n    </tr>\n    <tr>\n      <th>4</th>\n      <td>M7A</td>\n      <td>Queen's Park</td>\n      <td>Ontario Provincial Government</td>\n    </tr>\n  </tbody>\n</table>\n</div>",
                        "text/plain": "  PostalCode           Borough                      Neighborhood\n0        M3A        North York                         Parkwoods\n1        M4A        North York                  Victoria Village\n2        M5A  Downtown Toronto         Regent Park, Harbourfront\n3        M6A        North York  Lawrence Manor, Lawrence Heights\n4        M7A      Queen's Park     Ontario Provincial Government"
                    },
                    "metadata": {
                        "tags": []
                    },
                    "execution_count": 28
                }
            ]
        },
        {
            "cell_type": "markdown",
            "metadata": {
                "id": "cAtw-aV-qii2"
            },
            "source": "Code to combine neighbourhoods with common postal codes"
        },
        {
            "cell_type": "code",
            "metadata": {
                "colab": {
                    "base_uri": "https://localhost:8080/",
                    "height": 191
                },
                "id": "d9FccaI68Spy",
                "outputId": "76d05fd6-6e67-4492-d520-e0191652b744"
            },
            "source": "df2= df.groupby(['PostalCode', 'Borough'])['Neighborhood'].apply(', '.join).reset_index()\ndf2.head()",
            "execution_count": 29,
            "outputs": [
                {
                    "output_type": "execute_result",
                    "data": {
                        "text/html": "<div>\n<style scoped>\n    .dataframe tbody tr th:only-of-type {\n        vertical-align: middle;\n    }\n\n    .dataframe tbody tr th {\n        vertical-align: top;\n    }\n\n    .dataframe thead th {\n        text-align: right;\n    }\n</style>\n<table border=\"1\" class=\"dataframe\">\n  <thead>\n    <tr style=\"text-align: right;\">\n      <th></th>\n      <th>PostalCode</th>\n      <th>Borough</th>\n      <th>Neighborhood</th>\n    </tr>\n  </thead>\n  <tbody>\n    <tr>\n      <th>0</th>\n      <td>M1B</td>\n      <td>Scarborough</td>\n      <td>Malvern, Rouge</td>\n    </tr>\n    <tr>\n      <th>1</th>\n      <td>M1C</td>\n      <td>Scarborough</td>\n      <td>Rouge Hill, Port Union, Highland Creek</td>\n    </tr>\n    <tr>\n      <th>2</th>\n      <td>M1E</td>\n      <td>Scarborough</td>\n      <td>Guildwood, Morningside, West Hill</td>\n    </tr>\n    <tr>\n      <th>3</th>\n      <td>M1G</td>\n      <td>Scarborough</td>\n      <td>Woburn</td>\n    </tr>\n    <tr>\n      <th>4</th>\n      <td>M1H</td>\n      <td>Scarborough</td>\n      <td>Cedarbrae</td>\n    </tr>\n  </tbody>\n</table>\n</div>",
                        "text/plain": "  PostalCode      Borough                            Neighborhood\n0        M1B  Scarborough                          Malvern, Rouge\n1        M1C  Scarborough  Rouge Hill, Port Union, Highland Creek\n2        M1E  Scarborough       Guildwood, Morningside, West Hill\n3        M1G  Scarborough                                  Woburn\n4        M1H  Scarborough                               Cedarbrae"
                    },
                    "metadata": {
                        "tags": []
                    },
                    "execution_count": 29
                }
            ]
        },
        {
            "cell_type": "markdown",
            "metadata": {
                "id": "McECHS1oqdcC"
            },
            "source": "Code to check shape of the dataframe"
        },
        {
            "cell_type": "code",
            "metadata": {
                "colab": {
                    "base_uri": "https://localhost:8080/"
                },
                "id": "cncuBPbWqNE5",
                "outputId": "ab90666f-cf4b-47d7-9b39-2d588cf913ba"
            },
            "source": "df2.shape",
            "execution_count": 32,
            "outputs": [
                {
                    "output_type": "execute_result",
                    "data": {
                        "text/plain": "(103, 3)"
                    },
                    "metadata": {
                        "tags": []
                    },
                    "execution_count": 32
                }
            ]
        },
        {
            "cell_type": "code",
            "metadata": {
                "colab": {
                    "base_uri": "https://localhost:8080/",
                    "height": 191
                },
                "id": "BUNHWHMGvNR_",
                "outputId": "8a267d39-dfab-46d8-e19e-b69f2d573f74"
            },
            "source": "df3=pd.read_csv('https://cf-courses-data.s3.us.cloud-object-storage.appdomain.cloud/IBMDeveloperSkillsNetwork-DS0701EN-SkillsNetwork/labs_v1/Geospatial_Coordinates.csv')\ndf3.head()",
            "execution_count": 33,
            "outputs": [
                {
                    "output_type": "execute_result",
                    "data": {
                        "text/html": "<div>\n<style scoped>\n    .dataframe tbody tr th:only-of-type {\n        vertical-align: middle;\n    }\n\n    .dataframe tbody tr th {\n        vertical-align: top;\n    }\n\n    .dataframe thead th {\n        text-align: right;\n    }\n</style>\n<table border=\"1\" class=\"dataframe\">\n  <thead>\n    <tr style=\"text-align: right;\">\n      <th></th>\n      <th>Postal Code</th>\n      <th>Latitude</th>\n      <th>Longitude</th>\n    </tr>\n  </thead>\n  <tbody>\n    <tr>\n      <th>0</th>\n      <td>M1B</td>\n      <td>43.806686</td>\n      <td>-79.194353</td>\n    </tr>\n    <tr>\n      <th>1</th>\n      <td>M1C</td>\n      <td>43.784535</td>\n      <td>-79.160497</td>\n    </tr>\n    <tr>\n      <th>2</th>\n      <td>M1E</td>\n      <td>43.763573</td>\n      <td>-79.188711</td>\n    </tr>\n    <tr>\n      <th>3</th>\n      <td>M1G</td>\n      <td>43.770992</td>\n      <td>-79.216917</td>\n    </tr>\n    <tr>\n      <th>4</th>\n      <td>M1H</td>\n      <td>43.773136</td>\n      <td>-79.239476</td>\n    </tr>\n  </tbody>\n</table>\n</div>",
                        "text/plain": "  Postal Code   Latitude  Longitude\n0         M1B  43.806686 -79.194353\n1         M1C  43.784535 -79.160497\n2         M1E  43.763573 -79.188711\n3         M1G  43.770992 -79.216917\n4         M1H  43.773136 -79.239476"
                    },
                    "metadata": {
                        "tags": []
                    },
                    "execution_count": 33
                }
            ]
        },
        {
            "cell_type": "code",
            "metadata": {
                "colab": {
                    "base_uri": "https://localhost:8080/",
                    "height": 191
                },
                "id": "SD8Pj8SivXb7",
                "outputId": "8980c20a-9082-4cec-ac4d-c9efb6bc606a"
            },
            "source": "df3 = df3.rename(columns = {'Postal Code':'PostalCode'}) \ndf3=pd.merge(df2, df3, on='PostalCode')\ndf3.head()",
            "execution_count": 35,
            "outputs": [
                {
                    "output_type": "execute_result",
                    "data": {
                        "text/html": "<div>\n<style scoped>\n    .dataframe tbody tr th:only-of-type {\n        vertical-align: middle;\n    }\n\n    .dataframe tbody tr th {\n        vertical-align: top;\n    }\n\n    .dataframe thead th {\n        text-align: right;\n    }\n</style>\n<table border=\"1\" class=\"dataframe\">\n  <thead>\n    <tr style=\"text-align: right;\">\n      <th></th>\n      <th>PostalCode</th>\n      <th>Borough</th>\n      <th>Neighborhood</th>\n      <th>Latitude</th>\n      <th>Longitude</th>\n    </tr>\n  </thead>\n  <tbody>\n    <tr>\n      <th>0</th>\n      <td>M1B</td>\n      <td>Scarborough</td>\n      <td>Malvern, Rouge</td>\n      <td>43.806686</td>\n      <td>-79.194353</td>\n    </tr>\n    <tr>\n      <th>1</th>\n      <td>M1C</td>\n      <td>Scarborough</td>\n      <td>Rouge Hill, Port Union, Highland Creek</td>\n      <td>43.784535</td>\n      <td>-79.160497</td>\n    </tr>\n    <tr>\n      <th>2</th>\n      <td>M1E</td>\n      <td>Scarborough</td>\n      <td>Guildwood, Morningside, West Hill</td>\n      <td>43.763573</td>\n      <td>-79.188711</td>\n    </tr>\n    <tr>\n      <th>3</th>\n      <td>M1G</td>\n      <td>Scarborough</td>\n      <td>Woburn</td>\n      <td>43.770992</td>\n      <td>-79.216917</td>\n    </tr>\n    <tr>\n      <th>4</th>\n      <td>M1H</td>\n      <td>Scarborough</td>\n      <td>Cedarbrae</td>\n      <td>43.773136</td>\n      <td>-79.239476</td>\n    </tr>\n  </tbody>\n</table>\n</div>",
                        "text/plain": "  PostalCode      Borough                            Neighborhood   Latitude  \\\n0        M1B  Scarborough                          Malvern, Rouge  43.806686   \n1        M1C  Scarborough  Rouge Hill, Port Union, Highland Creek  43.784535   \n2        M1E  Scarborough       Guildwood, Morningside, West Hill  43.763573   \n3        M1G  Scarborough                                  Woburn  43.770992   \n4        M1H  Scarborough                               Cedarbrae  43.773136   \n\n   Longitude  \n0 -79.194353  \n1 -79.160497  \n2 -79.188711  \n3 -79.216917  \n4 -79.239476  "
                    },
                    "metadata": {
                        "tags": []
                    },
                    "execution_count": 35
                }
            ]
        },
        {
            "cell_type": "code",
            "metadata": {
                "colab": {
                    "base_uri": "https://localhost:8080/"
                },
                "id": "q7KtEJHwwE4b",
                "outputId": "765a12e2-bbee-418d-a229-bec9ea01c2ef"
            },
            "source": "df3.shape",
            "execution_count": 36,
            "outputs": [
                {
                    "output_type": "execute_result",
                    "data": {
                        "text/plain": "(103, 5)"
                    },
                    "metadata": {
                        "tags": []
                    },
                    "execution_count": 36
                }
            ]
        }
    ]
}